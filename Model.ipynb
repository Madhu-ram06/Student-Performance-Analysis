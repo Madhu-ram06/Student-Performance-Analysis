{
  "nbformat": 4,
  "nbformat_minor": 0,
  "metadata": {
    "colab": {
      "name": "Model.ipynb",
      "provenance": [],
      "authorship_tag": "ABX9TyNxulWlXOzwuzoIIiPRuQU1",
      "include_colab_link": true
    },
    "kernelspec": {
      "name": "python3",
      "display_name": "Python 3"
    },
    "language_info": {
      "name": "python"
    }
  },
  "cells": [
    {
      "cell_type": "markdown",
      "metadata": {
        "id": "view-in-github",
        "colab_type": "text"
      },
      "source": [
        "<a href=\"https://colab.research.google.com/github/Meghana-Red/Student-Performance-Analysis/blob/model/Model.ipynb\" target=\"_parent\"><img src=\"https://colab.research.google.com/assets/colab-badge.svg\" alt=\"Open In Colab\"/></a>"
      ]
    },
    {
      "cell_type": "markdown",
      "source": [
        ""
      ],
      "metadata": {
        "id": "sEui7k_HqA3j"
      }
    },
    {
      "cell_type": "markdown",
      "source": [
        "1. Importing Packages"
      ],
      "metadata": {
        "id": "FR6BP-zkqBqj"
      }
    },
    {
      "cell_type": "code",
      "source": [
        "import numpy as np\n",
        "import pandas as pd\n",
        "import matplotlib.pyplot as plt\n",
        "%matplotlib inline\n",
        "import seaborn as sns\n",
        "sns.set_style('whitegrid')\n",
        "import statsmodels.api as sm"
      ],
      "metadata": {
        "id": "ctTUSsaiqGwz"
      },
      "execution_count": null,
      "outputs": []
    },
    {
      "cell_type": "markdown",
      "source": [
        "2. Dataset"
      ],
      "metadata": {
        "id": "UWqX3SrDqJj1"
      }
    },
    {
      "cell_type": "code",
      "source": [
        "mat_ds = pd.read_csv(\"student-mat.csv\", sep=';')\n",
        "por_ds = pd.read_csv(\"student-por.csv\", sep=';')"
      ],
      "metadata": {
        "id": "NmAxcyY1qNFD"
      },
      "execution_count": null,
      "outputs": []
    },
    {
      "cell_type": "code",
      "source": [
        "#merge both datasets\n",
        "df = pd.concat([mat_ds,por_ds])"
      ],
      "metadata": {
        "id": "76SeW6SoqS61"
      },
      "execution_count": null,
      "outputs": []
    },
    {
      "cell_type": "markdown",
      "source": [
        "3. Data Preprocessing"
      ],
      "metadata": {
        "id": "Sw_cEjtKqbat"
      }
    },
    {
      "cell_type": "code",
      "source": [
        "# renaming the column labels\n",
        "df.columns = ['school','sex','age','address','family_size','parents_status','mother_education','father_education',\n",
        "           'mother_job','father_job','reason','guardian','commute_time','study_time','failures','school_support',\n",
        "          'family_support','paid_classes','activities','nursery','desire_higher_edu','internet','romantic','family_quality',\n",
        "          'free_time','go_out','weekday_alcohol_usage','weekend_alcohol_usage','health','absences','period1_score','period2_score','final_score']"
      ],
      "metadata": {
        "id": "69DmsR1uqZA0"
      },
      "execution_count": null,
      "outputs": []
    },
    {
      "cell_type": "code",
      "source": [
        "# convert final_score to categorical variable \n",
        "# Good:15~20 Fair:10~14 Poor:0~9\n",
        "df['final_grade'] = 'na'\n",
        "df.loc[(df.final_score >= 15) & (df.final_score <= 20), 'final_grade'] = 'good' \n",
        "df.loc[(df.final_score >= 10) & (df.final_score <= 14), 'final_grade'] = 'fair' \n",
        "df.loc[(df.final_score >= 0) & (df.final_score <= 9), 'final_grade'] = 'poor' "
      ],
      "metadata": {
        "id": "s4VpaXmXosYx"
      },
      "execution_count": null,
      "outputs": []
    },
    {
      "cell_type": "code",
      "source": [
        "# look for missing values\n",
        "df.isnull().any()"
      ],
      "metadata": {
        "id": "z6xrGulNo6wW"
      },
      "execution_count": null,
      "outputs": []
    },
    {
      "cell_type": "code",
      "source": [
        "df.index.is_unique"
      ],
      "metadata": {
        "id": "pQQ80W33pA7F"
      },
      "execution_count": null,
      "outputs": []
    },
    {
      "cell_type": "code",
      "source": [
        "df.index.duplicated()"
      ],
      "metadata": {
        "id": "hJubYnLkpDdm"
      },
      "execution_count": null,
      "outputs": []
    },
    {
      "cell_type": "code",
      "source": [
        "df = df[~df.index.duplicated()]"
      ],
      "metadata": {
        "id": "h2oaGTtfpFLm"
      },
      "execution_count": null,
      "outputs": []
    },
    {
      "cell_type": "code",
      "source": [
        "# Final Grade Countplot\n",
        "plt.figure(figsize=(8,6))\n",
        "sns.countplot(df.final_grade, order=[\"poor\",\"fair\",\"good\"], palette='Blues')\n",
        "plt.title('Final Grade - Number of Students',fontsize=20)\n",
        "plt.xlabel('Final Grade', fontsize=16)\n",
        "plt.ylabel('Number of Student', fontsize=16)"
      ],
      "metadata": {
        "id": "NPgDOn6_pOZl"
      },
      "execution_count": null,
      "outputs": []
    },
    {
      "cell_type": "code",
      "source": [
        ""
      ],
      "metadata": {
        "id": "39KNNOkTpRIO"
      },
      "execution_count": null,
      "outputs": []
    },
    {
      "cell_type": "markdown",
      "source": [
        "4. Correlation Heatmap"
      ],
      "metadata": {
        "id": "JumOUtf2p-F9"
      }
    },
    {
      "cell_type": "code",
      "source": [
        "# see correlation between variables through a correlation heatmap\n",
        "cor = df.corr()\n",
        "plt.figure(figsize=(10,10))\n",
        "sns.heatmap(cor, annot=True, cmap=\"Blues\")\n",
        "plt.title('Correlation Heatmap', fontsize=20)"
      ],
      "metadata": {
        "id": "4eboxGAWqDIH"
      },
      "execution_count": null,
      "outputs": []
    },
    {
      "cell_type": "markdown",
      "source": [
        "5. Final Grade "
      ],
      "metadata": {
        "id": "vuSeBgh-qTEt"
      }
    },
    {
      "cell_type": "markdown",
      "source": [
        "5.1 Final Grade by Romantic Status"
      ],
      "metadata": {
        "id": "t73EaWUuqa5l"
      }
    },
    {
      "cell_type": "code",
      "source": [
        "# romantic status\n",
        "perc = (lambda col: col/col.sum())\n",
        "index = ['poor','fair','good']\n",
        "romance_tab1 = pd.crosstab(index=df.final_grade, columns=df.romantic)\n",
        "romance_tab = np.log(romance_tab1)\n",
        "romance_perc = romance_tab.apply(perc).reindex(index)\n",
        "#plot\n",
        "plt.figure()\n",
        "romance_perc.plot.bar(colormap=\"Blues_r\", fontsize=16, figsize=(8,8))\n",
        "plt.title('Final Grade By Romantic Status', fontsize=20)\n",
        "plt.ylabel('Percentage of Logarithm Student Counts ', fontsize=16)\n",
        "plt.xlabel('Final Grade', fontsize=16)\n",
        "plt.show()"
      ],
      "metadata": {
        "colab": {
          "base_uri": "https://localhost:8080/",
          "height": 234
        },
        "id": "-CFcuhQUqZDd",
        "outputId": "f37ae2aa-1adc-4520-e16c-b8a7c1a035b4"
      },
      "execution_count": 1,
      "outputs": [
        {
          "output_type": "error",
          "ename": "NameError",
          "evalue": "ignored",
          "traceback": [
            "\u001b[0;31m---------------------------------------------------------------------------\u001b[0m",
            "\u001b[0;31mNameError\u001b[0m                                 Traceback (most recent call last)",
            "\u001b[0;32m<ipython-input-1-56f70d9786da>\u001b[0m in \u001b[0;36m<module>\u001b[0;34m()\u001b[0m\n\u001b[1;32m      2\u001b[0m \u001b[0mperc\u001b[0m \u001b[0;34m=\u001b[0m \u001b[0;34m(\u001b[0m\u001b[0;32mlambda\u001b[0m \u001b[0mcol\u001b[0m\u001b[0;34m:\u001b[0m \u001b[0mcol\u001b[0m\u001b[0;34m/\u001b[0m\u001b[0mcol\u001b[0m\u001b[0;34m.\u001b[0m\u001b[0msum\u001b[0m\u001b[0;34m(\u001b[0m\u001b[0;34m)\u001b[0m\u001b[0;34m)\u001b[0m\u001b[0;34m\u001b[0m\u001b[0;34m\u001b[0m\u001b[0m\n\u001b[1;32m      3\u001b[0m \u001b[0mindex\u001b[0m \u001b[0;34m=\u001b[0m \u001b[0;34m[\u001b[0m\u001b[0;34m'poor'\u001b[0m\u001b[0;34m,\u001b[0m\u001b[0;34m'fair'\u001b[0m\u001b[0;34m,\u001b[0m\u001b[0;34m'good'\u001b[0m\u001b[0;34m]\u001b[0m\u001b[0;34m\u001b[0m\u001b[0;34m\u001b[0m\u001b[0m\n\u001b[0;32m----> 4\u001b[0;31m \u001b[0mromance_tab1\u001b[0m \u001b[0;34m=\u001b[0m \u001b[0mpd\u001b[0m\u001b[0;34m.\u001b[0m\u001b[0mcrosstab\u001b[0m\u001b[0;34m(\u001b[0m\u001b[0mindex\u001b[0m\u001b[0;34m=\u001b[0m\u001b[0mdf\u001b[0m\u001b[0;34m.\u001b[0m\u001b[0mfinal_grade\u001b[0m\u001b[0;34m,\u001b[0m \u001b[0mcolumns\u001b[0m\u001b[0;34m=\u001b[0m\u001b[0mdf\u001b[0m\u001b[0;34m.\u001b[0m\u001b[0mromantic\u001b[0m\u001b[0;34m)\u001b[0m\u001b[0;34m\u001b[0m\u001b[0;34m\u001b[0m\u001b[0m\n\u001b[0m\u001b[1;32m      5\u001b[0m \u001b[0mromance_tab\u001b[0m \u001b[0;34m=\u001b[0m \u001b[0mnp\u001b[0m\u001b[0;34m.\u001b[0m\u001b[0mlog\u001b[0m\u001b[0;34m(\u001b[0m\u001b[0mromance_tab1\u001b[0m\u001b[0;34m)\u001b[0m\u001b[0;34m\u001b[0m\u001b[0;34m\u001b[0m\u001b[0m\n\u001b[1;32m      6\u001b[0m \u001b[0mromance_perc\u001b[0m \u001b[0;34m=\u001b[0m \u001b[0mromance_tab\u001b[0m\u001b[0;34m.\u001b[0m\u001b[0mapply\u001b[0m\u001b[0;34m(\u001b[0m\u001b[0mperc\u001b[0m\u001b[0;34m)\u001b[0m\u001b[0;34m.\u001b[0m\u001b[0mreindex\u001b[0m\u001b[0;34m(\u001b[0m\u001b[0mindex\u001b[0m\u001b[0;34m)\u001b[0m\u001b[0;34m\u001b[0m\u001b[0;34m\u001b[0m\u001b[0m\n",
            "\u001b[0;31mNameError\u001b[0m: name 'pd' is not defined"
          ]
        }
      ]
    },
    {
      "cell_type": "markdown",
      "source": [
        ""
      ],
      "metadata": {
        "id": "lqZIapw4tvR4"
      }
    },
    {
      "cell_type": "code",
      "source": [
        "# chi square test\n",
        "import statsmodels.api as sm\n",
        "romance_table = sm.stats.Table(romance_tab1)\n",
        "romance_rslt = romance_table.test_nominal_association()\n",
        "romance_rslt.pvalue"
      ],
      "metadata": {
        "id": "N8qV0gRwtvr1"
      },
      "execution_count": null,
      "outputs": []
    },
    {
      "cell_type": "markdown",
      "source": [
        "5.2 Final Grade by Alcohol Consumption"
      ],
      "metadata": {
        "id": "Q02e8Oedr-t4"
      }
    },
    {
      "cell_type": "code",
      "source": [
        "# weekend alcohol consumption\n",
        "alc_tab1 = pd.crosstab(index=df.final_grade, columns=df.weekend_alcohol_usage)\n",
        "alc_tab = np.log(alc_tab1)\n",
        "alc_perc = alc_tab.apply(perc).reindex(index)\n",
        "\n",
        "# create good student dataframe\n",
        "good = df.loc[df.final_grade == 'good']\n",
        "good['good_alcohol_usage']=good.weekend_alcohol_usage\n",
        "# create poor student dataframe\n",
        "poor = df.loc[df.final_grade == 'poor']\n",
        "poor['poor_alcohol_usage']=poor.weekend_alcohol_usage\n",
        "\n",
        "#plot\n",
        "plt.figure(figsize=(10,6))\n",
        "p1=sns.kdeplot(good['good_alcohol_usage'], shade=True, color=\"g\")\n",
        "p1=sns.kdeplot(poor['poor_alcohol_usage'], shade=True, color=\"b\")\n",
        "plt.title('Good Performance vs. Poor Performance Student Weekend Alcohol Consumption', fontsize=20)\n",
        "plt.ylabel('Density', fontsize=16)\n",
        "plt.xlabel('Level of Alcohol Consumption', fontsize=16)"
      ],
      "metadata": {
        "id": "IFNkMzAIsNAG"
      },
      "execution_count": null,
      "outputs": []
    },
    {
      "cell_type": "code",
      "source": [
        "#plot bar graph\n",
        "alc_perc.plot.bar(colormap=\"Blues\", figsize=(10,8), fontsize=16)\n",
        "plt.title('Final Grade By Weekend Alcohol Consumption', fontsize=20)\n",
        "plt.ylabel('Percentage of Logarithm Student Counts', fontsize=16)\n",
        "plt.xlabel('Final Grade', fontsize=16)"
      ],
      "metadata": {
        "id": "5NPRiB4lseke"
      },
      "execution_count": null,
      "outputs": []
    },
    {
      "cell_type": "code",
      "source": [
        "# chi-square test\n",
        "import statsmodels.api as sm\n",
        "alc_table = sm.stats.Table(alc_tab1)\n",
        "alc_rslt = alc_table.test_nominal_association()\n",
        "alc_rslt.pvalue"
      ],
      "metadata": {
        "id": "pSJK-yA1xO5-"
      },
      "execution_count": null,
      "outputs": []
    },
    {
      "cell_type": "markdown",
      "source": [
        "5.3 Final Grade by Parents Education Level"
      ],
      "metadata": {
        "id": "vxtrpMU_xby1"
      }
    },
    {
      "cell_type": "code",
      "source": [
        "good['good_student_father_education'] = good.father_education\n",
        "poor['poor_student_father_education'] = poor.father_education\n",
        "good['good_student_mother_education'] = good.mother_education\n",
        "poor['poor_student_mother_education'] = poor.mother_education\n",
        "#removing duplicate index\n",
        "df = df[~df.index.duplicated()]"
      ],
      "metadata": {
        "id": "Y9PvldP-xn9j"
      },
      "execution_count": null,
      "outputs": []
    },
    {
      "cell_type": "code",
      "source": [
        "# see the difference between good and poor performers' father education level(numeric: from 1 - very low to 5 - very high)\n",
        "plt.figure(figsize=(6,4))\n",
        "p2=sns.kdeplot(good['good_student_father_education'], shade=True, color=\"g\")\n",
        "p2=sns.kdeplot(poor['poor_student_father_education'], shade=True, color=\"b\")\n",
        "\n",
        "plt.xlabel('Father Education Level', fontsize=20)\n",
        "\n",
        "# see the difference between good and poor performers' mother education level(numeric: from 1 - very low to 5 - very high)\n",
        "plt.figure(figsize=(6,4))\n",
        "p3=sns.kdeplot(good['good_student_mother_education'], shade=True, color=\"g\")\n",
        "p3=sns.kdeplot(poor['poor_student_mother_education'], shade=True, color=\"b\")\n",
        "plt.xlabel('Mother Education Level', fontsize=20)"
      ],
      "metadata": {
        "id": "qEPGt3-Tx6ud"
      },
      "execution_count": null,
      "outputs": []
    },
    {
      "cell_type": "code",
      "source": [
        "# use OLS to see coefficients\n",
        "X_edu = df[['mother_education','father_education']]\n",
        "y_edu = df.final_score\n",
        "edu = sm.OLS(y_edu, X_edu)\n",
        "results_edu = edu.fit()\n",
        "results_edu.summary()"
      ],
      "metadata": {
        "id": "k0SVRH0ayD9f"
      },
      "execution_count": null,
      "outputs": []
    },
    {
      "cell_type": "markdown",
      "source": [
        "Comparatively, mother's education level has bigger influence than father's education level"
      ],
      "metadata": {
        "id": "spvpv0UcyIWD"
      }
    },
    {
      "cell_type": "markdown",
      "source": [
        "5.4 Final Grade by Frequency of Going Out"
      ],
      "metadata": {
        "id": "ftp4qxOLyN6M"
      }
    },
    {
      "cell_type": "code",
      "source": [
        "#(numeric: from 1 - very low to 5 - very high)\n",
        "out_tab = pd.crosstab(index=df.final_grade, columns=df.go_out)\n",
        "out_perc = out_tab.apply(perc).reindex(index)\n",
        "\n",
        "out_perc.plot.bar(colormap=\"Blues\", fontsize=16, figsize=(14,6))\n",
        "plt.title('Final Grade By Frequency of Going Out', fontsize=20)\n",
        "plt.ylabel('Percentage of Student', fontsize=16)\n",
        "plt.xlabel('Final Grade', fontsize=16)"
      ],
      "metadata": {
        "id": "0H-l_DeyyTod"
      },
      "execution_count": null,
      "outputs": []
    },
    {
      "cell_type": "code",
      "source": [
        "# chi-square test \n",
        "out_table = sm.stats.Table(out_tab)\n",
        "out_rslt = out_table.test_nominal_association()\n",
        "out_rslt.pvalue"
      ],
      "metadata": {
        "id": "0s6QFGj92_c2"
      },
      "execution_count": null,
      "outputs": []
    },
    {
      "cell_type": "markdown",
      "source": [
        "5.5 Final Grade by Desire to pursue Higher Education"
      ],
      "metadata": {
        "id": "pcJ9dTqQ3K01"
      }
    },
    {
      "cell_type": "code",
      "source": [
        "higher_tab = pd.crosstab(index=df.final_grade, columns=df.desire_higher_edu)\n",
        "higher_perc = higher_tab.apply(perc).reindex(index)\n",
        "\n",
        "higher_perc.plot.bar(colormap=\"YlGnBu\", figsize=(14,6), fontsize=16)\n",
        "plt.title('Final Grade By Desire to Receive Higher Education', fontsize=20)\n",
        "plt.xlabel('Final Grade', fontsize=16)\n",
        "plt.ylabel('Percentage of Student', fontsize=16)"
      ],
      "metadata": {
        "id": "68krkzzd3TMl"
      },
      "execution_count": null,
      "outputs": []
    },
    {
      "cell_type": "code",
      "source": [
        "# chi-square test\n",
        "import statsmodels.api as sm\n",
        "higher_table = sm.stats.Table(higher_tab)\n",
        "higher_rslt = higher_table.test_nominal_association()\n",
        "higher_rslt.pvalue"
      ],
      "metadata": {
        "id": "Cn9Df3Ak3a5t"
      },
      "execution_count": null,
      "outputs": []
    },
    {
      "cell_type": "markdown",
      "source": [
        "5.6 Final Grade by Living Area"
      ],
      "metadata": {
        "id": "tknwRfoc3_w9"
      }
    },
    {
      "cell_type": "code",
      "source": [
        "# living area: urban vs. rural\n",
        "df.address = df.address.map({'U':'Urban', 'R':'Rural'})\n",
        "\n",
        "#count of students living in urban area vs rural\n",
        "plt.figure(figsize=(6,6))\n",
        "sns.countplot(df.address, palette='Blues')\n",
        "plt.title('Urban and Rural Students Count', fontsize=20)\n",
        "plt.xlabel('Living Area', fontsize=16)\n",
        "plt.ylabel('Number Of Students', fontsize=16)\n",
        "plt.show()"
      ],
      "metadata": {
        "id": "JkkC4Vk54ERt"
      },
      "execution_count": null,
      "outputs": []
    },
    {
      "cell_type": "code",
      "source": [
        "ad_tab1 = pd.crosstab(index=df.final_grade, columns=df.address)\n",
        "ad_tab = np.log(ad_tab1)\n",
        "ad_perc = ad_tab.apply(perc).reindex(index)\n",
        "\n",
        "#plot\n",
        "ad_perc.plot.bar(colormap=\"YlGnBu\", fontsize=16, figsize=(8,6))\n",
        "plt.title('Final Grade By Living Area', fontsize=20)\n",
        "plt.ylabel('Percentage of Logarithm Student#', fontsize=16)\n",
        "plt.xlabel('Final Grade', fontsize=16)"
      ],
      "metadata": {
        "id": "lZQL-duB4Tx9"
      },
      "execution_count": null,
      "outputs": []
    },
    {
      "cell_type": "code",
      "source": [
        "# chi-square test\n",
        "ad_table = sm.stats.Table(ad_tab1)\n",
        "ad_rslt = ad_table.test_nominal_association()\n",
        "ad_rslt.pvalue"
      ],
      "metadata": {
        "id": "7Q1tjas14c9s"
      },
      "execution_count": null,
      "outputs": []
    }
  ]
}